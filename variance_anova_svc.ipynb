{
 "cells": [
  {
   "cell_type": "code",
   "execution_count": 45,
   "metadata": {
    "code_folding": []
   },
   "outputs": [],
   "source": [
    "import numpy as np\n",
    "import matplotlib.pyplot as plt\n",
    "from nilearn import datasets\n",
    "from nilearn.input_data import NiftiMasker\n",
    "import random\n"
   ]
  },
  {
   "cell_type": "markdown",
   "metadata": {},
   "source": [
    "Load Oasis dataset\n",
    "-------------------\n",
    "\n"
   ]
  },
  {
   "cell_type": "code",
   "execution_count": 46,
   "metadata": {
    "code_folding": [
     2
    ]
   },
   "outputs": [],
   "source": [
    "data_prefix = '/Users/RichardMin/nilearn_data/oasis2/'\n",
    "image_postfix = 'RAW/mpr-1.nifti.img'\n",
    "scan_filenames = ['OAS2_0001_MR1',\n",
    "            'OAS2_0002_MR1',\n",
    "            'OAS2_0004_MR1',\n",
    "            'OAS2_0005_MR1',\n",
    "            'OAS2_0007_MR1',\n",
    "            'OAS2_0008_MR1',\n",
    "            'OAS2_0009_MR1',\n",
    "            'OAS2_0010_MR1',\n",
    "            'OAS2_0012_MR1',\n",
    "            'OAS2_0013_MR1',\n",
    "            'OAS2_0014_MR1',\n",
    "            'OAS2_0016_MR1',\n",
    "            'OAS2_0017_MR1',\n",
    "            'OAS2_0018_MR1',\n",
    "            'OAS2_0020_MR1',\n",
    "            'OAS2_0021_MR1',\n",
    "            'OAS2_0022_MR1',\n",
    "            'OAS2_0023_MR1',\n",
    "            'OAS2_0026_MR1',\n",
    "            'OAS2_0027_MR1',\n",
    "            'OAS2_0028_MR1',\n",
    "            'OAS2_0029_MR1',\n",
    "            'OAS2_0030_MR1',\n",
    "            'OAS2_0031_MR1',\n",
    "            'OAS2_0032_MR1',\n",
    "            'OAS2_0034_MR1',\n",
    "            'OAS2_0035_MR1',\n",
    "            'OAS2_0036_MR1',\n",
    "            'OAS2_0037_MR1',\n",
    "            'OAS2_0039_MR1',\n",
    "            'OAS2_0040_MR1',\n",
    "            'OAS2_0041_MR1',\n",
    "            'OAS2_0042_MR1',\n",
    "            'OAS2_0043_MR1',\n",
    "            'OAS2_0044_MR1',\n",
    "            'OAS2_0045_MR1',\n",
    "            'OAS2_0046_MR1',\n",
    "            'OAS2_0047_MR1',\n",
    "            'OAS2_0048_MR1',\n",
    "            'OAS2_0049_MR1',\n",
    "            'OAS2_0050_MR1',\n",
    "            'OAS2_0051_MR1',\n",
    "            'OAS2_0052_MR1',\n",
    "            'OAS2_0053_MR1',\n",
    "            'OAS2_0054_MR1',\n",
    "            'OAS2_0055_MR1',\n",
    "            'OAS2_0056_MR1',\n",
    "            'OAS2_0057_MR1',\n",
    "            'OAS2_0058_MR1',\n",
    "            'OAS2_0060_MR1',\n",
    "            'OAS2_0061_MR1',\n",
    "            'OAS2_0062_MR1',\n",
    "            'OAS2_0063_MR1',\n",
    "            'OAS2_0064_MR1',\n",
    "            'OAS2_0066_MR1',\n",
    "            'OAS2_0067_MR1',\n",
    "            'OAS2_0068_MR1',\n",
    "            'OAS2_0069_MR1',\n",
    "            'OAS2_0070_MR1',\n",
    "            'OAS2_0071_MR1',\n",
    "            'OAS2_0073_MR1',\n",
    "            'OAS2_0075_MR1',\n",
    "            'OAS2_0076_MR1',\n",
    "            'OAS2_0077_MR1',\n",
    "            'OAS2_0078_MR1',\n",
    "            'OAS2_0079_MR1',\n",
    "            'OAS2_0080_MR1',\n",
    "            'OAS2_0081_MR1',\n",
    "            'OAS2_0085_MR1',\n",
    "            'OAS2_0086_MR1',\n",
    "            'OAS2_0087_MR1',\n",
    "            'OAS2_0088_MR1',\n",
    "            'OAS2_0089_MR1',\n",
    "            'OAS2_0090_MR1',\n",
    "            'OAS2_0091_MR1',\n",
    "            'OAS2_0092_MR1',\n",
    "            'OAS2_0094_MR1',\n",
    "            'OAS2_0095_MR1',\n",
    "            'OAS2_0096_MR1',\n",
    "            'OAS2_0097_MR1',\n",
    "            'OAS2_0098_MR1',\n",
    "            'OAS2_0099_MR1',\n",
    "            'OAS2_0100_MR1',\n",
    "            'OAS2_0101_MR1',\n",
    "            'OAS2_0102_MR1',\n",
    "            'OAS2_0103_MR1',\n",
    "            'OAS2_0104_MR1',\n",
    "            'OAS2_0105_MR1',\n",
    "            'OAS2_0106_MR1',\n",
    "            'OAS2_0108_MR1',\n",
    "            'OAS2_0109_MR1',\n",
    "            'OAS2_0111_MR1',\n",
    "            'OAS2_0112_MR1',\n",
    "            'OAS2_0113_MR1',\n",
    "            'OAS2_0114_MR1',\n",
    "            'OAS2_0116_MR1',\n",
    "            'OAS2_0117_MR1',\n",
    "            'OAS2_0118_MR1',\n",
    "            'OAS2_0119_MR1',\n",
    "            'OAS2_0120_MR1',\n",
    "            'OAS2_0121_MR1',\n",
    "            'OAS2_0122_MR1',\n",
    "            'OAS2_0124_MR1',\n",
    "            'OAS2_0126_MR1',\n",
    "            'OAS2_0127_MR1',\n",
    "            'OAS2_0128_MR1',\n",
    "            'OAS2_0129_MR1',\n",
    "            'OAS2_0131_MR1',\n",
    "            'OAS2_0133_MR1',\n",
    "            'OAS2_0134_MR1',\n",
    "            'OAS2_0135_MR1',\n",
    "            'OAS2_0137_MR1',\n",
    "            'OAS2_0138_MR1',\n",
    "            'OAS2_0139_MR1',\n",
    "            'OAS2_0140_MR1',\n",
    "            'OAS2_0141_MR1',\n",
    "            'OAS2_0142_MR1',\n",
    "            'OAS2_0143_MR1',\n",
    "            'OAS2_0144_MR1',\n",
    "            'OAS2_0145_MR1',\n",
    "            'OAS2_0146_MR1',\n",
    "            'OAS2_0147_MR1',\n",
    "            'OAS2_0149_MR1',\n",
    "            'OAS2_0150_MR1',\n",
    "            'OAS2_0152_MR1',\n",
    "            'OAS2_0154_MR1',\n",
    "            'OAS2_0156_MR1',\n",
    "            'OAS2_0157_MR1',\n",
    "            'OAS2_0158_MR1',\n",
    "            'OAS2_0159_MR1',\n",
    "            'OAS2_0160_MR1',\n",
    "            'OAS2_0161_MR1',\n",
    "            'OAS2_0162_MR1',\n",
    "            'OAS2_0164_MR1',\n",
    "            'OAS2_0165_MR1',\n",
    "            'OAS2_0169_MR1',\n",
    "            'OAS2_0171_MR1',\n",
    "            'OAS2_0172_MR1',\n",
    "            'OAS2_0174_MR1',\n",
    "            'OAS2_0175_MR1',\n",
    "            'OAS2_0176_MR1',\n",
    "            'OAS2_0177_MR1',\n",
    "            'OAS2_0178_MR1',\n",
    "            'OAS2_0179_MR1',\n",
    "            'OAS2_0181_MR1',\n",
    "            'OAS2_0182_MR1',\n",
    "            'OAS2_0183_MR1',\n",
    "            'OAS2_0184_MR1',\n",
    "            'OAS2_0185_MR1',\n",
    "            'OAS2_0186_MR1'\n",
    "        ]\n",
    "\n",
    "scan_filenames = np.asarray(list(map(lambda x: data_prefix + x + \"/\" + image_postfix, scan_filenames)))\n",
    "\n",
    "csv_data = np.recfromcsv('/Users/RichardMin/CS168/oasis_longitudinal_filtered.csv')\n",
    "\n",
    "# note that we have to filter out the non MR1 scans.\n",
    "\n",
    "status = np.asarray([True if x.decode() == 'Demented' else False for x in csv_data['group']])\n",
    "assert(len(scan_filenames) == len(status))"
   ]
  },
  {
   "cell_type": "markdown",
   "metadata": {},
   "source": [
    "Preprocess data\n",
    "----------------\n",
    "\n"
   ]
  },
  {
   "cell_type": "code",
   "execution_count": 47,
   "metadata": {},
   "outputs": [],
   "source": [
    "import nibabel as nib\n",
    "nifti_masker = NiftiMasker(\n",
    "    standardize=False,\n",
    "    smoothing_fwhm=2,\n",
    "    memory='nilearn_cache')  # cache options\n",
    "\n",
    "scans_masked = nifti_masker.fit_transform(scan_filenames)"
   ]
  },
  {
   "cell_type": "markdown",
   "metadata": {},
   "source": [
    "# Segment Data"
   ]
  },
  {
   "cell_type": "code",
   "execution_count": 48,
   "metadata": {},
   "outputs": [],
   "source": [
    "train_ratio = 0.8\n",
    "validation_ratio = 0.0\n",
    "test_ratio = 0.2\n",
    "\n",
    "assert(train_ratio + validation_ratio + test_ratio == 1)\n",
    "\n",
    "zipped_data = list(zip(scans_masked, status))\n",
    "random.shuffle(zipped_data)\n",
    "\n",
    "shuffled_scans, shuffled_status = zip(*zipped_data)\n",
    "\n",
    "train_scans = shuffled_scans[:int(len(shuffled_scans) * train_ratio)]\n",
    "validation_scans = shuffled_scans[int(len(shuffled_scans) * train_ratio):int(len(shuffled_scans) * (train_ratio + validation_ratio))]\n",
    "test_scans = shuffled_scans[int(len(shuffled_scans) * (train_ratio + validation_ratio)):]\n",
    "train_status = shuffled_status[:int(len(shuffled_status) * train_ratio)]\n",
    "validation_status = shuffled_status[int(len(shuffled_status) * train_ratio):int(len(shuffled_status) * (train_ratio + validation_ratio))]\n",
    "test_status = shuffled_status[int(len(shuffled_status) * (train_ratio + validation_ratio)):]\n"
   ]
  },
  {
   "cell_type": "markdown",
   "metadata": {},
   "source": [
    "Prediction pipeline with ANOVA and SVR\n",
    "---------------------------------------\n",
    "\n"
   ]
  },
  {
   "cell_type": "code",
   "execution_count": 49,
   "metadata": {
    "scrolled": false
   },
   "outputs": [
    {
     "name": "stdout",
     "output_type": "stream",
     "text": [
      "ANOVA + SVR\n"
     ]
    }
   ],
   "source": [
    "print(\"ANOVA + SVR\")\n",
    "# Define the prediction function to be used.\n",
    "# Here we use a Support Vector Classification, with a linear kernel\n",
    "from sklearn.svm import SVC\n",
    "svc = SVC(kernel='linear')\n",
    "\n",
    "# Dimension reduction\n",
    "from sklearn.feature_selection import VarianceThreshold, SelectKBest, \\\n",
    "        f_regression\n",
    "\n",
    "# Remove features with too low between-subject variance\n",
    "variance_threshold = VarianceThreshold(threshold=.01)\n",
    "\n",
    "# Here we use a classical univariate feature selection based on F-test,\n",
    "# namely Anova.\n",
    "feature_selection = SelectKBest(f_regression, k=2000)\n",
    "\n",
    "# We have our predictor (SVR), our feature selection (SelectKBest), and now,\n",
    "# we can plug them together in a *pipeline* that performs the two operations\n",
    "# successively:\n",
    "from sklearn.pipeline import Pipeline\n",
    "anova_svc = Pipeline([\n",
    "            ('variance_threshold', variance_threshold),\n",
    "            ('anova', feature_selection),\n",
    "            ('svc', svc)])\n",
    "\n",
    "### Fit and predictscans_masked\n",
    "anova_svc.fit(train_scans, train_status)\n",
    "status_pred = anova_svc.predict(test_scans)"
   ]
  },
  {
   "cell_type": "markdown",
   "metadata": {},
   "source": [
    "# Accuracy\n",
    "--------------\n",
    "Look at different accuracy measures\n",
    "\n"
   ]
  },
  {
   "cell_type": "code",
   "execution_count": 50,
   "metadata": {
    "scrolled": false
   },
   "outputs": [
    {
     "name": "stdout",
     "output_type": "stream",
     "text": [
      "Accuracy: 0.433333333333\n",
      "Precision: 0.5\n",
      "Recall: 0.176470588235\n",
      "F1: 0.260869565217\n"
     ]
    }
   ],
   "source": [
    "import sklearn.metrics\n",
    "print(\"Accuracy: \" + str(sklearn.metrics.accuracy_score(test_status, status_pred)))\n",
    "print(\"Precision: \" + str(sklearn.metrics.precision_score(test_status, status_pred)))\n",
    "print(\"Recall: \" + str(sklearn.metrics.recall_score(test_status, status_pred)))\n",
    "print(\"F1: \" + str(sklearn.metrics.f1_score(test_status, status_pred)))"
   ]
  },
  {
   "cell_type": "code",
   "execution_count": null,
   "metadata": {},
   "outputs": [],
   "source": []
  },
  {
   "cell_type": "code",
   "execution_count": null,
   "metadata": {},
   "outputs": [],
   "source": []
  }
 ],
 "metadata": {
  "kernelspec": {
   "display_name": "Python 3",
   "language": "python",
   "name": "python3"
  },
  "language_info": {
   "codemirror_mode": {
    "name": "ipython",
    "version": 3
   },
   "file_extension": ".py",
   "mimetype": "text/x-python",
   "name": "python",
   "nbconvert_exporter": "python",
   "pygments_lexer": "ipython3",
   "version": "3.6.5"
  }
 },
 "nbformat": 4,
 "nbformat_minor": 1
}
